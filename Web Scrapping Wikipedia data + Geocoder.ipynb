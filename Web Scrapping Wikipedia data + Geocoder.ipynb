{
 "cells": [
  {
   "cell_type": "code",
   "execution_count": 1,
   "metadata": {},
   "outputs": [],
   "source": [
    "import numpy as np\n",
    "import pandas as pd"
   ]
  },
  {
   "cell_type": "code",
   "execution_count": 2,
   "metadata": {},
   "outputs": [],
   "source": [
    "#Scrapping data from wikipedia\n",
    "\n",
    "import requests\n",
    "from lxml import html\n",
    "\n",
    "pageContent=requests.get(\n",
    "     'https://en.wikipedia.org/wiki/List_of_postal_codes_of_Canada:_M'\n",
    ")\n",
    "tree = html.fromstring(pageContent.content)\n",
    "torontoTable = tree.xpath('//*[@id=\"mw-content-text\"]/div/table[1]/tbody//text()')"
   ]
  },
  {
   "cell_type": "code",
   "execution_count": 3,
   "metadata": {},
   "outputs": [
    {
     "data": {
      "text/plain": [
       "180"
      ]
     },
     "execution_count": 3,
     "metadata": {},
     "output_type": "execute_result"
    }
   ],
   "source": [
    "#continue preprocess wikipedia data with XPATH\n",
    "\n",
    "counter = 0\n",
    "torontoArray =[]\n",
    "torontoItem =\"\"\n",
    "\n",
    "for data in torontoTable:\n",
    "    if data.strip() != '' and data.strip() != 'Postal code' and data.strip() != 'Borough' and data.strip() != 'Neighborhood' :\n",
    "        if counter%3 == 0:\n",
    "            if data.strip()[0] != 'M':\n",
    "                continue\n",
    "            torontoArray.append(torontoItem)\n",
    "            torontoItem=data.strip()\n",
    "        elif data.strip() != 'Not assigned':\n",
    "            torontoItem =   torontoItem.strip() + \"|\" + data.strip().replace(\" /\", \",\")\n",
    "        else :\n",
    "            torontoItem =   torontoItem.strip()  + \"|\" + data.strip().replace(\" /\", \",\")\n",
    "            counter = counter +1\n",
    "        counter = counter +1\n",
    "       \n",
    "    \n",
    "len(torontoArray)"
   ]
  },
  {
   "cell_type": "code",
   "execution_count": null,
   "metadata": {},
   "outputs": [],
   "source": [
    "#Adding Latitude and Longtitude\n",
    "\n",
    "import geocoder\n",
    "torontoList = []\n",
    "\n",
    "for item in torontoArray:\n",
    "    if 'Not assigned' in item :\n",
    "        continue\n",
    "    else : \n",
    "        if item != '' :\n",
    "            ItemValue = str(item).split(\"|\")\n",
    "            stringAddress = ItemValue[0] +\", Toronto, Ontario\"\n",
    "            coordinates = geocoder.arcgis(stringAddress).latlng\n",
    "            ItemValue.append(coordinates[0])\n",
    "            ItemValue.append(coordinates[1])\n",
    "            torontoList.append(ItemValue) \n",
    "            \n",
    "torontoList         "
   ]
  },
  {
   "cell_type": "code",
   "execution_count": null,
   "metadata": {},
   "outputs": [],
   "source": [
    "#Adding into Pandas Dataframe\n",
    "df = pd.DataFrame(torontoList, columns =['Postal code', 'Borough','Neighborhood', 'Latitude' , 'Longitude']) "
   ]
  },
  {
   "cell_type": "code",
   "execution_count": null,
   "metadata": {},
   "outputs": [],
   "source": [
    "df.shape"
   ]
  },
  {
   "cell_type": "code",
   "execution_count": null,
   "metadata": {},
   "outputs": [],
   "source": [
    "df.head(12)"
   ]
  },
  {
   "cell_type": "code",
   "execution_count": null,
   "metadata": {
    "scrolled": false
   },
   "outputs": [],
   "source": [
    "from geopy.geocoders import Nominatim\n",
    "import folium\n",
    "\n",
    "address = 'Toronto, Ontario'\n",
    "geolocator = Nominatim(user_agent=\"to_explorer\")\n",
    "location = geolocator.geocode(address)\n",
    "latitude = location.latitude\n",
    "longitude = location.longitude\n",
    "DisplayMap_folium = folium.Map(location=[latitude, longitude], zoom_start=10)\n",
    "\n",
    "for lat, lng, neighborhood in zip(df['Latitude'], df['Longitude'],  df['Neighborhood']):\n",
    "    label = f'neighborhood: {neighborhood}'\n",
    "    label = folium.Popup(label, parse_html=True)\n",
    "    folium.CircleMarker(\n",
    "        [lat, lng],\n",
    "        radius=3,\n",
    "        popup=label,\n",
    "        color='#000fff',\n",
    "        fill=True,\n",
    "        fill_color='#000fff',\n",
    "        fill_opacity=0.5,\n",
    "        parse_html=False).add_to(DisplayMap_folium)  \n",
    "    \n",
    "DisplayMap_folium"
   ]
  },
  {
   "cell_type": "code",
   "execution_count": null,
   "metadata": {},
   "outputs": [],
   "source": [
    "# foursquare information\n",
    "CLIENT_ID = '0DPTJZXTG0VRTPDCOW0V3KNG32M40D1XWWBVYFF0VNYYG2PM' # Foursquare ID\n",
    "CLIENT_SECRET = 'WWEN1VYCGVR4E2FOTQRPFYM0I03MIDXF2DK1NEMSEXDIJN2B' # Foursquare Secret\n",
    "VERSION = '20200408'\n",
    "RADIUS = 200\n",
    "LIMIT = 100\n",
    "\n",
    "for name, lat, lng in zip(  df['Neighborhood'] , df['Latitude'], df['Longitude']):\n",
    "        venues_list=[]\n",
    "        url = 'https://api.foursquare.com/v2/venues/explore?&client_id={}&client_secret={}&v={}&ll={},{}&radius={}&limit={}'.format(\n",
    "            CLIENT_ID, \n",
    "            CLIENT_SECRET, \n",
    "            VERSION, \n",
    "            lat, \n",
    "            lng, \n",
    "            RADIUS, \n",
    "            LIMIT)\n",
    "            \n",
    "        results = requests.get(url).json()[\"response\"]['groups'][0]['items']\n",
    "        venues_list.append([(\n",
    "            df['Neighborhood'], \n",
    "            df['Latitude'], \n",
    "            df['Longitude'], \n",
    "            v['venue']['name'], \n",
    "            v['venue']['location']['lat'], \n",
    "            v['venue']['location']['lng'],  \n",
    "            v['venue']['categories'][0]['name']) for v in results])\n",
    "\n",
    "all_venues = pd.DataFrame([item for venue_list in venues_list for item in venue_list])\n",
    "all_venues.columns = ['Neighborhood',                   \n",
    "                  'Neighborhood Latitude', \n",
    "                  'Neighborhood Longitude', \n",
    "                  'Venue', \n",
    "                  'Venue Latitude', \n",
    "                  'Venue Longitude', \n",
    "                  'Venue Category']"
   ]
  },
  {
   "cell_type": "code",
   "execution_count": null,
   "metadata": {},
   "outputs": [],
   "source": []
  }
 ],
 "metadata": {
  "kernelspec": {
   "display_name": "Python 3",
   "language": "python",
   "name": "python3"
  },
  "language_info": {
   "codemirror_mode": {
    "name": "ipython",
    "version": 3
   },
   "file_extension": ".py",
   "mimetype": "text/x-python",
   "name": "python",
   "nbconvert_exporter": "python",
   "pygments_lexer": "ipython3",
   "version": "3.7.6"
  }
 },
 "nbformat": 4,
 "nbformat_minor": 2
}
